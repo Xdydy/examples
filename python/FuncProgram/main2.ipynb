{
 "cells": [
  {
   "cell_type": "code",
   "execution_count": null,
   "metadata": {},
   "outputs": [],
   "source": [
    "def configure_orchestrator_callable(wrap):\n",
    "    def decorator(func):\n",
    "        handle = func\n",
    "        return wrap(handle)\n",
    "    return decorator\n",
    "\n",
    "def configure_function_builder(wrap):\n",
    "    def decorator(func):\n",
    "        handle = func\n",
    "        return wrap(handle)\n",
    "    return decorator\n",
    "\n",
    "def orch_trigger(context_name):\n"
   ]
  }
 ],
 "metadata": {
  "language_info": {
   "name": "python"
  }
 },
 "nbformat": 4,
 "nbformat_minor": 2
}

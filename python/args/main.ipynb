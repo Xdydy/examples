{
 "cells": [
  {
   "cell_type": "code",
   "execution_count": 2,
   "metadata": {},
   "outputs": [],
   "source": [
    "def f(*args, **kwargs):\n",
    "    for i, arg in enumerate(args):\n",
    "        print(f\"arg[{i}] = {arg}\")\n",
    "    for key, value in kwargs.items():\n",
    "        print(f\"kwargs[{key}] = {value}\")"
   ]
  },
  {
   "cell_type": "code",
   "execution_count": 2,
   "metadata": {},
   "outputs": [
    {
     "name": "stdout",
     "output_type": "stream",
     "text": [
      "arg[0] = 1\n",
      "arg[1] = 2\n",
      "arg[2] = 3\n",
      "kwargs[a] = 4\n",
      "kwargs[b] = 5\n",
      "kwargs[c] = 6\n"
     ]
    }
   ],
   "source": [
    "f(1, 2, 3, a=4, b=5, c=6)"
   ]
  },
  {
   "cell_type": "code",
   "execution_count": 4,
   "metadata": {},
   "outputs": [],
   "source": [
    "def g(a,b,c):\n",
    "    return (a,b,c)"
   ]
  },
  {
   "cell_type": "code",
   "execution_count": 9,
   "metadata": {},
   "outputs": [
    {
     "name": "stdout",
     "output_type": "stream",
     "text": [
      "('a', 'b', 'c')\n"
     ]
    }
   ],
   "source": [
    "print(g.__code__.co_varnames)"
   ]
  },
  {
   "cell_type": "code",
   "execution_count": 6,
   "metadata": {},
   "outputs": [],
   "source": [
    "def func(*args,**kwargs):\n",
    "    if kwargs.get('name') is not None:\n",
    "        print(f\"Hello {kwargs['name']}\")\n",
    "        def func(fn):\n",
    "            def func(a,b):\n",
    "                return fn(a,b)\n",
    "            return func\n",
    "        return func\n",
    "    else:\n",
    "        fn = args[0]\n",
    "        def func(a,b):\n",
    "            return fn(a,b)\n",
    "    return func"
   ]
  },
  {
   "cell_type": "code",
   "execution_count": 7,
   "metadata": {},
   "outputs": [
    {
     "name": "stdout",
     "output_type": "stream",
     "text": [
      "Hello mul\n"
     ]
    }
   ],
   "source": [
    "@func\n",
    "def add(a,b):\n",
    "    return a+b\n",
    "\n",
    "@func(name='mul')\n",
    "def mul(a,b):\n",
    "    return a*b"
   ]
  },
  {
   "cell_type": "code",
   "execution_count": 8,
   "metadata": {},
   "outputs": [
    {
     "data": {
      "text/plain": [
       "2"
      ]
     },
     "execution_count": 8,
     "metadata": {},
     "output_type": "execute_result"
    }
   ],
   "source": [
    "add(1,2)\n",
    "mul(1,2)"
   ]
  }
 ],
 "metadata": {
  "kernelspec": {
   "display_name": "base",
   "language": "python",
   "name": "python3"
  },
  "language_info": {
   "codemirror_mode": {
    "name": "ipython",
    "version": 3
   },
   "file_extension": ".py",
   "mimetype": "text/x-python",
   "name": "python",
   "nbconvert_exporter": "python",
   "pygments_lexer": "ipython3",
   "version": "3.11.5"
  }
 },
 "nbformat": 4,
 "nbformat_minor": 2
}

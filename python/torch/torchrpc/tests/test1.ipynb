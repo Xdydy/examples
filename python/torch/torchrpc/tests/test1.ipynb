{
 "cells": [
  {
   "cell_type": "code",
   "execution_count": null,
   "metadata": {},
   "outputs": [
    {
     "ename": "",
     "evalue": "",
     "output_type": "error",
     "traceback": [
      "\u001b[1;31m由于缺少模块 \"_sqlite3\"，kernel 启动失败。请考虑安装此模块。\n",
      "\u001b[1;31m有关详细信息，请单击 <a href=\"https://aka.ms/kernelFailuresMissingModule\">此处</a>。"
     ]
    }
   ],
   "source": [
    "import torch.distributed.rpc as rpc\n",
    "\n",
    "import os\n",
    "os.environ['MASTER_ADDR'] = \"localhost\"\n",
    "os.environ['MASTER_PORT'] = \"8000\"\n",
    "\n",
    "rpc.init_rpc('driver',rank=0)"
   ]
  },
  {
   "cell_type": "code",
   "execution_count": 3,
   "metadata": {},
   "outputs": [],
   "source": [
    "import time\n",
    "time.sleep(3600)\n",
    "rpc.shutdown()"
   ]
  }
 ],
 "metadata": {
  "kernelspec": {
   "display_name": "venv",
   "language": "python",
   "name": "python3"
  },
  "language_info": {
   "codemirror_mode": {
    "name": "ipython",
    "version": 3
   },
   "file_extension": ".py",
   "mimetype": "text/x-python",
   "name": "python",
   "nbconvert_exporter": "python",
   "pygments_lexer": "ipython3",
   "version": "3.9.0"
  }
 },
 "nbformat": 4,
 "nbformat_minor": 2
}
